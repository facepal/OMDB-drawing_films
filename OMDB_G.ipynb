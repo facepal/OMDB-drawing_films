{
 "cells": [
  {
   "cell_type": "code",
   "execution_count": null,
   "id": "f3e97aa1",
   "metadata": {},
   "outputs": [],
   "source": [
    "import json\n",
    "import requests\n",
    "import random\n",
    "import pandas as pd\n",
    "import matplotlib.pyplot as plt \n",
    "import numpy as np\n",
    "import seaborn as sns\n",
    "from textwrap import wrap\n",
    "import squarify\n",
    "import matplotlib.ticker as mtick\n",
    "import plotly.express as px"
   ]
  },
  {
   "cell_type": "markdown",
   "id": "dcc019df",
   "metadata": {},
   "source": [
    "import of data containing the id of the film by which we will draw films"
   ]
  },
  {
   "cell_type": "code",
   "execution_count": null,
   "id": "2d13b0dd",
   "metadata": {},
   "outputs": [],
   "source": [
    "title_akas = data=pd.read_csv('https://datasets.imdbws.com/title.akas.tsv.gz',sep='\\t',\n",
    "                              usecols = ['titleId', 'isOriginalTitle'])\n",
    "title_akas"
   ]
  },
  {
   "cell_type": "markdown",
   "id": "86908f84",
   "metadata": {},
   "source": [
    "select only unique titles"
   ]
  },
  {
   "cell_type": "code",
   "execution_count": null,
   "id": "73994cd0",
   "metadata": {},
   "outputs": [],
   "source": [
    "title_akas_sorted = title_akas[title_akas['isOriginalTitle'] == '1']\n",
    "title_akas_sorted"
   ]
  },
  {
   "cell_type": "markdown",
   "id": "71ad0196",
   "metadata": {},
   "source": [
    "transfer id to the list"
   ]
  },
  {
   "cell_type": "code",
   "execution_count": null,
   "id": "b5c9df10",
   "metadata": {},
   "outputs": [],
   "source": [
    "Id_list = title_akas_sorted['titleId'].values.tolist()\n",
    "Id_list[:10]"
   ]
  },
  {
   "cell_type": "markdown",
   "id": "5c08fcb1",
   "metadata": {},
   "source": [
    "we choose the seed to get the same films, in addition we divide the download into two days because the daily free limit is 1000"
   ]
  },
  {
   "cell_type": "code",
   "execution_count": null,
   "id": "58fafdc7",
   "metadata": {},
   "outputs": [],
   "source": [
    "random.seed(10)"
   ]
  },
  {
   "cell_type": "code",
   "execution_count": null,
   "id": "1e21d23f",
   "metadata": {},
   "outputs": [],
   "source": [
    "sample_2k = random.sample(Id_list,2000)"
   ]
  },
  {
   "cell_type": "code",
   "execution_count": null,
   "id": "89e6e7f2",
   "metadata": {},
   "outputs": [],
   "source": [
    "len(sample_2k)"
   ]
  },
  {
   "cell_type": "code",
   "execution_count": null,
   "id": "66fb292d",
   "metadata": {},
   "outputs": [],
   "source": [
    "sample_2k1 = sample_2k[:1000]"
   ]
  },
  {
   "cell_type": "code",
   "execution_count": null,
   "id": "36523749",
   "metadata": {},
   "outputs": [],
   "source": [
    "len(sample_2k1)"
   ]
  },
  {
   "cell_type": "code",
   "execution_count": null,
   "id": "2f05958b",
   "metadata": {},
   "outputs": [],
   "source": [
    "sample_2k2 = sample_2k[1000:]"
   ]
  },
  {
   "cell_type": "code",
   "execution_count": null,
   "id": "531c9f3a",
   "metadata": {},
   "outputs": [],
   "source": [
    "len(sample_2k2)"
   ]
  },
  {
   "cell_type": "code",
   "execution_count": null,
   "id": "f55db121",
   "metadata": {},
   "outputs": [],
   "source": [
    "films = pd.DataFrame()"
   ]
  },
  {
   "cell_type": "markdown",
   "id": "dddd8a68",
   "metadata": {},
   "source": [
    "draw sample from sample_2k and next day from sample_2k2, be sure to put your apikey below"
   ]
  },
  {
   "cell_type": "code",
   "execution_count": null,
   "id": "745a40f9",
   "metadata": {},
   "outputs": [],
   "source": [
    "for i in sample_2k2:\n",
    "    url1 = f'http://www.omdbapi.com/?i={i}&apikey='    \n",
    "    result = requests.get(url1).json()\n",
    "    df = pd.DataFrame.from_dict(result, orient = 'index').T\n",
    "    if df['Response'][0] == 'True' :\n",
    "        films = films.append(df)\n",
    "    else:\n",
    "        pass\n",
    "films     "
   ]
  },
  {
   "cell_type": "code",
   "execution_count": null,
   "id": "4b040fd9",
   "metadata": {},
   "outputs": [],
   "source": [
    "films.to_csv('films1k2.csv', sep = ',', encoding='utf-8', index = False )"
   ]
  },
  {
   "cell_type": "markdown",
   "id": "7ae6413f",
   "metadata": {},
   "source": [
    "Set your path"
   ]
  },
  {
   "cell_type": "code",
   "execution_count": null,
   "id": "71291c3a",
   "metadata": {},
   "outputs": [],
   "source": [
    "path_B = ''\n",
    "# path_X = ''"
   ]
  },
  {
   "cell_type": "code",
   "execution_count": null,
   "id": "697462ed",
   "metadata": {},
   "outputs": [],
   "source": [
    "films1k = pd.read_csv(path_B +'films1k.csv')\n",
    "films1k2 = pd.read_csv(path_B+'films1k2.csv')"
   ]
  },
  {
   "cell_type": "code",
   "execution_count": null,
   "id": "ee5b9968-4a75-4640-b832-0f6cd5dc41ff",
   "metadata": {},
   "outputs": [],
   "source": [
    "films1k"
   ]
  },
  {
   "cell_type": "code",
   "execution_count": null,
   "id": "4c676e6e",
   "metadata": {},
   "outputs": [],
   "source": [
    "films1k\n",
    "del films1k['Unnamed: 0']"
   ]
  },
  {
   "cell_type": "code",
   "execution_count": null,
   "id": "7a68e531",
   "metadata": {},
   "outputs": [],
   "source": [
    "df = films1k.append(films1k2)"
   ]
  },
  {
   "cell_type": "code",
   "execution_count": null,
   "id": "e50c4640",
   "metadata": {},
   "outputs": [],
   "source": [
    "pd.set_option('display.max_columns', None)"
   ]
  },
  {
   "cell_type": "code",
   "execution_count": null,
   "id": "42b54a21",
   "metadata": {},
   "outputs": [],
   "source": [
    "df.head()"
   ]
  },
  {
   "cell_type": "markdown",
   "id": "7a61a091",
   "metadata": {},
   "source": [
    "descriptive statistics"
   ]
  },
  {
   "cell_type": "code",
   "execution_count": null,
   "id": "36333a08",
   "metadata": {},
   "outputs": [],
   "source": [
    "df[\"imdbVotes\"] = df[\"imdbVotes\"].str.replace(',','.')"
   ]
  },
  {
   "cell_type": "code",
   "execution_count": null,
   "id": "34a7ec08",
   "metadata": {},
   "outputs": [],
   "source": [
    "df['imdbVotes']=df['imdbVotes'].astype(float)"
   ]
  },
  {
   "cell_type": "code",
   "execution_count": null,
   "id": "2b78f926",
   "metadata": {},
   "outputs": [],
   "source": [
    "df['imdbVotes'].describe()"
   ]
  },
  {
   "cell_type": "code",
   "execution_count": null,
   "id": "85f3fff2",
   "metadata": {},
   "outputs": [],
   "source": [
    "df['imdbRating'].describe()"
   ]
  },
  {
   "cell_type": "markdown",
   "id": "6e7ff4db",
   "metadata": {},
   "source": [
    "Save appended df"
   ]
  },
  {
   "cell_type": "code",
   "execution_count": null,
   "id": "9537e62c-9ea4-4d1e-acda-d27330d8a3a7",
   "metadata": {},
   "outputs": [],
   "source": [
    "df.to_csv('films_appended.csv', sep = ',', encoding='utf-8', index = False )"
   ]
  },
  {
   "cell_type": "code",
   "execution_count": null,
   "id": "17372abe",
   "metadata": {},
   "outputs": [],
   "source": [
    "df.columns"
   ]
  },
  {
   "cell_type": "markdown",
   "id": "2b128c0e",
   "metadata": {},
   "source": [
    "# Reading preapared df"
   ]
  },
  {
   "cell_type": "code",
   "execution_count": null,
   "id": "de4f53d1",
   "metadata": {},
   "outputs": [],
   "source": [
    "# if needed\n",
    "df = pd.read_csv(path_B + 'films_appended.csv')"
   ]
  },
  {
   "cell_type": "markdown",
   "id": "d8b0ea49-f095-4f1c-b31d-6550d8017ab6",
   "metadata": {},
   "source": [
    "### 1 figure (most common genres )"
   ]
  },
  {
   "cell_type": "code",
   "execution_count": null,
   "id": "eef13bd4-17e9-46fe-9e88-ad7c4645f245",
   "metadata": {},
   "outputs": [],
   "source": [
    "df['Genre']"
   ]
  },
  {
   "cell_type": "code",
   "execution_count": null,
   "id": "126ffc20-2092-4d85-bf97-4d4627b62924",
   "metadata": {},
   "outputs": [],
   "source": [
    "temp=df['Genre'].value_counts()\n",
    "temp"
   ]
  },
  {
   "cell_type": "code",
   "execution_count": null,
   "id": "c346dbb2-e0de-4c3d-bec5-18a2dd7f28e3",
   "metadata": {},
   "outputs": [],
   "source": [
    "temp.head(20)"
   ]
  },
  {
   "cell_type": "code",
   "execution_count": null,
   "id": "5da8e20f-2b58-4a86-b2cd-78d041bef539",
   "metadata": {},
   "outputs": [],
   "source": [
    "y = df['Genre'].value_counts().head(25)\n",
    "    \n",
    "plt.rcParams['figure.figsize'] = (35, 20)\n",
    "plt.style.use('bmh')\n",
    "\n",
    "labels = [ '\\n'.join(wrap(l, 20)) for l in y.index]\n",
    "\n",
    "color = plt.cm.twilight(np.linspace(0, 1,15))\n",
    "squarify.plot(sizes = y.values, label = labels, alpha=.8, color = color, text_kwargs={'fontsize': 15})\n",
    "plt.title('20 najczęściej wybieranych gatunków filmowych', fontweight = 30, fontsize = 30)\n",
    "\n",
    "plt.axis('off')\n",
    "plt.show()"
   ]
  },
  {
   "cell_type": "markdown",
   "id": "d6224d99-fa06-4655-b586-2c9560b037f9",
   "metadata": {
    "tags": []
   },
   "source": [
    "### 2 figure (number of films per year)"
   ]
  },
  {
   "cell_type": "code",
   "execution_count": null,
   "id": "7b93fac8-3b7e-4c1d-821c-2208c7614abe",
   "metadata": {},
   "outputs": [],
   "source": [
    "temp1 = df[df[\"Year\"].str.contains(\"–\")==False]"
   ]
  },
  {
   "cell_type": "code",
   "execution_count": null,
   "id": "c82e1575-eabf-4391-96fd-9d2185ab06ad",
   "metadata": {},
   "outputs": [],
   "source": [
    "temp1 = temp1[temp1[\"Year\"].str.contains(\"2023|2022|2021|2020|2019|2018|2017|2016|2015|2014\")==True]"
   ]
  },
  {
   "cell_type": "code",
   "execution_count": null,
   "id": "21899cda-77c7-4877-9e53-517be95f6366",
   "metadata": {},
   "outputs": [],
   "source": [
    "temp1=temp1.sort_values(by=['Year'])"
   ]
  },
  {
   "cell_type": "code",
   "execution_count": null,
   "id": "ace12151-6ea7-47b8-b956-ef960c64664c",
   "metadata": {},
   "outputs": [],
   "source": [
    "fig,ax = plt.subplots(figsize=(15,6))\n",
    "sns.countplot(x='Year', \n",
    "              data=temp1, \n",
    "              palette='bright', \n",
    "              order = temp1['Year'].unique()\n",
    "               )\n",
    "ax.set_title('Ilość produkcji filmów na przestrzeni lat', fontweight = 30, fontsize = 20)\n",
    "ax.set_xlabel(\"\")\n",
    "ax.set_ylabel(\"Liczba filmów\", fontsize = 12)\n",
    "ax.bar_label(ax.containers[0])"
   ]
  },
  {
   "cell_type": "markdown",
   "id": "6a736365-53f7-454d-8bc4-f04a164a7ad0",
   "metadata": {},
   "source": [
    "### 3 figure (most frequent countries)"
   ]
  },
  {
   "cell_type": "code",
   "execution_count": null,
   "id": "2c7a1f0f-58a3-4136-a09e-ea4d9f301589",
   "metadata": {},
   "outputs": [],
   "source": [
    "df1 = df.copy()"
   ]
  },
  {
   "cell_type": "code",
   "execution_count": null,
   "id": "0114cb44-016b-4e2d-91dd-616bd92241fb",
   "metadata": {},
   "outputs": [],
   "source": [
    "df1['Country'] = df1['Country'].replace(['United States'], 'USA')"
   ]
  },
  {
   "cell_type": "code",
   "execution_count": null,
   "id": "3bca1b49-916a-4572-80c4-6d82561bb008",
   "metadata": {},
   "outputs": [],
   "source": [
    "df1['Country'] = df1['Country'].replace(['United Kingdom'], 'UK')"
   ]
  },
  {
   "cell_type": "code",
   "execution_count": null,
   "id": "7dfa496a-cf13-4902-a7e2-98a9e7776bd7",
   "metadata": {},
   "outputs": [],
   "source": [
    "dfk1= df1['Country']"
   ]
  },
  {
   "cell_type": "code",
   "execution_count": null,
   "id": "58dcb26b-77f8-4bbe-9da5-b64bc0f20e11",
   "metadata": {},
   "outputs": [],
   "source": [
    "dfk1"
   ]
  },
  {
   "cell_type": "code",
   "execution_count": null,
   "id": "61e812b8-2966-4071-899b-321f7309df64",
   "metadata": {},
   "outputs": [],
   "source": [
    "tempdfk1 = df1['Country'].value_counts()"
   ]
  },
  {
   "cell_type": "code",
   "execution_count": null,
   "id": "dfdf4a04",
   "metadata": {},
   "outputs": [],
   "source": [
    "tempdfk1[0:10]"
   ]
  },
  {
   "cell_type": "code",
   "execution_count": null,
   "id": "1ddc4cad",
   "metadata": {},
   "outputs": [],
   "source": [
    "data = {\n",
    "    \"Country\" : [\"USA\", \"UK\",\"Germany\",\"France\",\"Spain\",\"Italy\",\"Japan\",\"Australia\",\"Brazil\",\"Mexico\"],\n",
    "    'Count': list(tempdfk1[0:10])\n",
    "}"
   ]
  },
  {
   "cell_type": "code",
   "execution_count": null,
   "id": "e86c7214",
   "metadata": {},
   "outputs": [],
   "source": [
    "plot_df = pd.DataFrame(data)"
   ]
  },
  {
   "cell_type": "code",
   "execution_count": null,
   "id": "70c7ce0d-981d-4d03-837a-9ba0a2e0d27f",
   "metadata": {},
   "outputs": [],
   "source": [
    "plot_df"
   ]
  },
  {
   "cell_type": "code",
   "execution_count": null,
   "id": "23739d6f-624f-455c-8663-4a31fc01d987",
   "metadata": {},
   "outputs": [],
   "source": [
    "df2=df1.loc[df1['Country'].isin([\"USA\", \"UK\",\"Germany\",\"France\",\"Spain\",\"Italy\",\"Japan\",\"Australia\",\"Brazil\",\"Mexico\"])]"
   ]
  },
  {
   "cell_type": "code",
   "execution_count": null,
   "id": "9b8902f6-1394-46d9-8802-2beb8da12b46",
   "metadata": {},
   "outputs": [],
   "source": [
    "fig_dims = (15,6)\n",
    "fig, ax = plt.subplots(figsize=fig_dims)\n",
    "sns.barplot(y=plot_df[\"Country\"], order = plot_df.sort_values('Count', ascending = False).Country,\n",
    "            x=plot_df[\"Count\"], ax=ax, color=\"orange\")\n",
    "\n",
    "ax.set_title(\"Podział ze względu na kraje\", fontweight = 30, fontsize = 20)\n",
    "ax.set_xlabel(\"Liczba filmów\")\n",
    "ax.set_ylabel(\"\")\n",
    "sns.despine()"
   ]
  },
  {
   "cell_type": "code",
   "execution_count": null,
   "id": "9c836aa2",
   "metadata": {},
   "outputs": [],
   "source": [
    "fig_dims = (15,6)\n",
    "fig, ax = plt.subplots(figsize=fig_dims)\n",
    "sns.barplot(y=df2[\"Country\"].value_counts().index, order = tempdfk1.sort_values('Country'),\n",
    "            x=df2[\"Country\"].value_counts(), ax=ax, color=\"orange\")\n",
    "\n",
    "ax.set_title(\"Podział ze względu na kraje\", fontweight = 30, fontsize = 20)\n",
    "ax.set_xlabel(\"Liczba filmów\")\n",
    "ax.set_ylabel(\"\")\n",
    "sns.despine()"
   ]
  },
  {
   "cell_type": "markdown",
   "id": "3f36a0c6-5eee-4ff4-9ace-9f6169ef6885",
   "metadata": {},
   "source": [
    "### 4 figure (most frequent languages)"
   ]
  },
  {
   "cell_type": "code",
   "execution_count": null,
   "id": "1570ad99-1985-48e8-b73e-0a0f0b52c239",
   "metadata": {},
   "outputs": [],
   "source": [
    "df1['Language']"
   ]
  },
  {
   "cell_type": "code",
   "execution_count": null,
   "id": "a7232045-b4ce-48e7-b5c4-7099f46e6538",
   "metadata": {},
   "outputs": [],
   "source": [
    "df2=df1['Language'].value_counts()"
   ]
  },
  {
   "cell_type": "code",
   "execution_count": null,
   "id": "17c7cda4-f464-4939-99a5-5639c691122b",
   "metadata": {},
   "outputs": [],
   "source": [
    "d1 = df2.head(30)"
   ]
  },
  {
   "cell_type": "code",
   "execution_count": null,
   "id": "5bb118c2-364c-4bf3-9601-fbf87a09ec41",
   "metadata": {},
   "outputs": [],
   "source": [
    "d1.index"
   ]
  },
  {
   "cell_type": "code",
   "execution_count": null,
   "id": "20088ddb-4434-4990-9338-c5612ea67401",
   "metadata": {},
   "outputs": [],
   "source": [
    "def bbar(data, textdist):\n",
    "\n",
    "    ax=data.plot.bar(color='indigo')\n",
    "    \n",
    "    ymin, ymax = plt.ylim()\n",
    "    plt.ylim(ymin, ymax + 0.05 * (ymax - ymin))\n",
    "\n",
    "    \n",
    "    totals=[]\n",
    "    for i in ax.patches:\n",
    "        totals.append(i.get_height())\n",
    "\n",
    "    total = sum(totals)\n",
    "    \n",
    "    for i in ax.patches:\n",
    "            ax.text(i.get_x(), i.get_height()+textdist, str(round((i.get_height()/total)*100, 2))+'%', fontsize=10, color='black')"
   ]
  },
  {
   "cell_type": "code",
   "execution_count": null,
   "id": "a3abf133-9cef-46f2-bae0-35bcbc5e7630",
   "metadata": {},
   "outputs": [],
   "source": [
    "df2=df1.loc[df1['Language'].isin(['English', 'Spanish', 'German', 'French', 'Japanese', 'Italian',\n",
    "       'Portuguese',  'Russian', 'English', 'Greek', 'Danish'])]"
   ]
  },
  {
   "cell_type": "code",
   "execution_count": null,
   "id": "eec5a089-37bf-48c7-9488-553072ba1303",
   "metadata": {},
   "outputs": [],
   "source": [
    "fig, ax = plt.subplots(figsize=(15,6))\n",
    "plt.title('Podział ze względu na języki', fontweight = 30, fontsize = 20)\n",
    "plt.gca().yaxis.set_major_formatter(mtick.PercentFormatter(xmax=1000.0))\n",
    "bbar(df2['Language'].value_counts(), 25,)"
   ]
  },
  {
   "cell_type": "markdown",
   "id": "e05bf70e-1c57-4fe7-844c-138667faa6c0",
   "metadata": {},
   "source": [
    "### 5 figure (countries where there is a nomination or award)"
   ]
  },
  {
   "cell_type": "code",
   "execution_count": null,
   "id": "6ea2e541-73cc-4c09-b163-ebff0ed003ac",
   "metadata": {},
   "outputs": [],
   "source": [
    "df1['Country'] = df1['Country'].replace(['United States'], 'USA')"
   ]
  },
  {
   "cell_type": "code",
   "execution_count": null,
   "id": "43d50685-28a1-4dff-b677-a3a3eccabe58",
   "metadata": {},
   "outputs": [],
   "source": [
    "df1['Country'] = df1['Country'].replace(['United Kingdom'], 'UK')"
   ]
  },
  {
   "cell_type": "code",
   "execution_count": null,
   "id": "f6be36fe-67c1-45a3-971f-dbfe33482e16",
   "metadata": {},
   "outputs": [],
   "source": [
    "df1['Awards'].dropna()"
   ]
  },
  {
   "cell_type": "code",
   "execution_count": null,
   "id": "c6e5c417-528d-4774-8dc9-f3793002a71e",
   "metadata": {},
   "outputs": [],
   "source": [
    "df2=df1.loc[df1['Awards'].notna()]"
   ]
  },
  {
   "cell_type": "code",
   "execution_count": null,
   "id": "9a1befd4-6fc2-4954-af2a-ded37cd25df5",
   "metadata": {},
   "outputs": [],
   "source": [
    "df3=df2['Country'].value_counts()"
   ]
  },
  {
   "cell_type": "code",
   "execution_count": null,
   "id": "352f77aa",
   "metadata": {},
   "outputs": [],
   "source": [
    "data = {\n",
    "    \"Country\" : [\"USA\", \"UK\",\"Germany\",\"Japan\",\"Spain\",\"Brazil\",\"Finland\",\"Canada\",\"South Korea\",\"France\"],\n",
    "    'Count': list(df3.head(10))\n",
    "}"
   ]
  },
  {
   "cell_type": "code",
   "execution_count": null,
   "id": "384dfbed",
   "metadata": {},
   "outputs": [],
   "source": [
    "df4 = pd.DataFrame(data)"
   ]
  },
  {
   "cell_type": "code",
   "execution_count": null,
   "id": "fca21ebd",
   "metadata": {},
   "outputs": [],
   "source": [
    "df4"
   ]
  },
  {
   "cell_type": "code",
   "execution_count": null,
   "id": "60b72466-6db4-49d3-8d69-9320f7538868",
   "metadata": {},
   "outputs": [],
   "source": [
    "df3=df2.loc[df2['Country'].isin([\"USA\", \"UK\",\"Germany\",\"Japan\",\"Spain\",\"Brazil\",\"Finland\",\"Canada\",\"South Korea\",\"France\"])]"
   ]
  },
  {
   "cell_type": "code",
   "execution_count": null,
   "id": "61aedc36-ecf8-40d8-b94d-051cc358e24c",
   "metadata": {},
   "outputs": [],
   "source": [
    "fig,ax = plt.subplots(figsize=(15,6))\n",
    "sns.barplot(y=df4[\"Country\"], x= df4['Count'], data=df4,palette='icefire')\n",
    "ax.set_title('Ilość nominacji/nagród w podziale na kraje', fontweight = 30, fontsize = 20);\n",
    "ax.set_xlabel(\"\")\n",
    "ax.set_ylabel(\"\")"
   ]
  },
  {
   "cell_type": "code",
   "execution_count": null,
   "id": "aed0dbaa",
   "metadata": {},
   "outputs": [],
   "source": [
    "temp2 = df[df[\"Year\"].str.contains(\"–\")==False]"
   ]
  },
  {
   "cell_type": "code",
   "execution_count": null,
   "id": "45a82d7f",
   "metadata": {},
   "outputs": [],
   "source": [
    "temp2 = temp2[temp2[\"Year\"].str.contains(\"2023|2022|2021|2020|2019|2018|2017|2016|2015|2014|2013|2012|2011|2010|2009|2008|2007|2006|2005|2004|2003|2002|2001|200\")==True]"
   ]
  },
  {
   "cell_type": "markdown",
   "id": "3c1d8336",
   "metadata": {},
   "source": [
    "### 6 figure of average film ratings over the years"
   ]
  },
  {
   "cell_type": "code",
   "execution_count": null,
   "id": "96bdec26",
   "metadata": {},
   "outputs": [],
   "source": [
    "rates = temp2.groupby('Year')\n",
    "rates2 = rates[['imdbRating']].mean()\n",
    "rates2.dropna()"
   ]
  },
  {
   "cell_type": "code",
   "execution_count": null,
   "id": "8697b6ad",
   "metadata": {},
   "outputs": [],
   "source": [
    "fig = px.line(rates2, y=\"imdbRating\", title='Oceny vs lata')\n",
    "fig.show()"
   ]
  },
  {
   "cell_type": "code",
   "execution_count": null,
   "id": "c327d0bb",
   "metadata": {},
   "outputs": [],
   "source": [
    "data1 = df.groupby('Director')\n",
    "max_rating = data1.imdbRating.mean()\n",
    "max_rating.sort_values(ascending = False)"
   ]
  }
 ],
 "metadata": {
  "kernelspec": {
   "display_name": "Python 3 (ipykernel)",
   "language": "python",
   "name": "python3"
  },
  "language_info": {
   "codemirror_mode": {
    "name": "ipython",
    "version": 3
   },
   "file_extension": ".py",
   "mimetype": "text/x-python",
   "name": "python",
   "nbconvert_exporter": "python",
   "pygments_lexer": "ipython3",
   "version": "3.9.7"
  }
 },
 "nbformat": 4,
 "nbformat_minor": 5
}
